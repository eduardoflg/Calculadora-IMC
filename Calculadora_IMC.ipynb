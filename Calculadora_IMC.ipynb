{
  "nbformat": 4,
  "nbformat_minor": 0,
  "metadata": {
    "colab": {
      "provenance": []
    },
    "kernelspec": {
      "name": "python3",
      "display_name": "Python 3"
    },
    "language_info": {
      "name": "python"
    }
  },
  "cells": [
    {
      "cell_type": "code",
      "execution_count": null,
      "metadata": {
        "id": "ItTXM53W8qJk"
      },
      "outputs": [],
      "source": [
        "#Ramon Garcia Eduardo Isaias\n",
        "val = True\n",
        "while val:\n",
        "  try:\n",
        "    print(\"-----INGRESO DE DATOS-----\")\n",
        "    nombre = input(\"Ingresa tu Nombre(s)\".strip())\n",
        "    if not nombre:\n",
        "      raise ValueError(\"Debes Ingresar un nombre\")\n",
        "    Apaterno = input(\"Ingresa tu Apellido paterno:  \".strip())\n",
        "    if not Apaterno:\n",
        "      raise ValueError(\"Debes Ingresar un apellido paterno\")\n",
        "    Amaterno = input(\"Ingresa tu Apellido materno:  \".strip())\n",
        "    if not Amaterno:\n",
        "      raise ValueError(\"Debes Ingresar un apellido materno\")\n",
        "    edad = int (input(\"Ingresa tu edad:  \").strip())\n",
        "    if not edad:\n",
        "      raise ValueError(\"Debes Ingresar una edad\")\n",
        "    if edad <=0:\n",
        "      raise ValueError(\"debes poner una edad mayor a 0\")\n",
        "    Peso = float (input(\"Ingresa tu peso:  \").strip())\n",
        "    if not Peso:\n",
        "      raise ValueError(\"Debes Ingresar un peso\")\n",
        "    if Peso <=0:\n",
        "      raise ValueError(\"debes poner un peso mayor a 0\")\n",
        "    Altura = float (input(\"Ingresa tu altura:  \").strip())\n",
        "    if not Altura:\n",
        "      raise ValueError(\"Debes Ingresar una altura\")\n",
        "    if Altura <=0:\n",
        "      raise ValueError(\"debes poner una altura mayor a 0\")\n",
        "  #Calculo\n",
        "    IMC = (Peso/(Altura*Altura))\n",
        "    print(\"-----RESULTADOS-----\")\n",
        "    print(f\"Nombre: \",nombre)\n",
        "    print(f\"Apellido Paterno: \",Apaterno)\n",
        "    print(f\"Apellido Materno: \",Amaterno)\n",
        "    print(f\"Edad: {edad} años\")\n",
        "    print(f\"Peso: \",Peso)\n",
        "    print(f\"Altura: \",Altura)\n",
        "    print(f\"tu IMC: {IMC}\")\n",
        "    print(\"Final del programa\")\n",
        "    input(\"Presiona Enter para salir\")\n",
        "    val = False\n",
        "  except ValueError as e:\n",
        "    print(f\"Error: {e}\")\n",
        "    print(\"Por favor, ingresa los datos nuevamente.\")"
      ]
    },
    {
      "cell_type": "code",
      "source": [],
      "metadata": {
        "id": "Emxw0XBFFWsn"
      },
      "execution_count": null,
      "outputs": []
    }
  ]
}