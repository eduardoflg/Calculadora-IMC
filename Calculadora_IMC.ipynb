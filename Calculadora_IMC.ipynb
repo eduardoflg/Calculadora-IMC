{
  "nbformat": 4,
  "nbformat_minor": 0,
  "metadata": {
    "colab": {
      "provenance": []
    },
    "kernelspec": {
      "name": "python3",
      "display_name": "Python 3"
    },
    "language_info": {
      "name": "python"
    }
  },
  "cells": [
    {
      "cell_type": "code",
      "execution_count": 22,
      "metadata": {
        "colab": {
          "base_uri": "https://localhost:8080/"
        },
        "id": "ItTXM53W8qJk",
        "outputId": "30d0f082-efd3-4373-aac6-5267391047a6"
      },
      "outputs": [
        {
          "output_type": "stream",
          "name": "stdout",
          "text": [
            "-----INGRESO DE DATOS-----\n",
            "Ingresa tu Nombre(s)\n",
            "Error: Debes Ingresar un nombre\n",
            "Por favor, ingresa los datos nuevamente.\n",
            "-----INGRESO DE DATOS-----\n",
            "Ingresa tu Nombre(s)Eduardo\n",
            "Ingresa tu Apellido paterno:Ramon\n",
            "Ingresa tu Apellido materno:Garcia\n",
            "Ingresa tu edad:  \n",
            "Error: invalid literal for int() with base 10: ''\n",
            "Por favor, ingresa los datos nuevamente.\n",
            "-----INGRESO DE DATOS-----\n",
            "Ingresa tu Nombre(s)lalo}\n",
            "Ingresa tu Apellido paterno:ramon\n",
            "Ingresa tu Apellido materno:Garcia\n",
            "Ingresa tu edad:  24\n",
            "Ingresa tu peso:  1.78\n",
            "Ingresa tu altura:  1\n",
            "-----RESULTADOS-----\n",
            "Nombre:  lalo}\n",
            "Apellido Paterno:  ramon\n",
            "Apellido Materno:  Garcia\n",
            "Edad: 24 años\n",
            "Peso:  1.78\n",
            "Altura:  1.0\n",
            "tu IMC: 1.78\n"
          ]
        }
      ],
      "source": [
        "#Ramon Garcia Eduardo Isaias\n",
        "val = True\n",
        "while val:\n",
        "  try:\n",
        "    print(\"-----INGRESO DE DATOS-----\")\n",
        "    nombre = input(\"Ingresa tu Nombre(s)\".strip())\n",
        "    if not nombre:\n",
        "      raise ValueError(\"Debes Ingresar un nombre\")\n",
        "    Apaterno = input(\"Ingresa tu Apellido paterno:  \".strip())\n",
        "    if not Apaterno:\n",
        "      raise ValueError(\"Debes Ingresar un apellido paterno\")\n",
        "    Amaterno = input(\"Ingresa tu Apellido materno:  \".strip())\n",
        "    if not Amaterno:\n",
        "      raise ValueError(\"Debes Ingresar un apellido materno\")\n",
        "    edad = int (input(\"Ingresa tu edad:  \").strip())\n",
        "    if not edad:\n",
        "      raise ValueError(\"Debes Ingresar una edad\")\n",
        "    if edad <=0:\n",
        "      raise ValueError(\"debes poner una edad mayor a 0\")\n",
        "    Peso = float (input(\"Ingresa tu peso:  \").strip())\n",
        "    if not Peso:\n",
        "      raise ValueError(\"Debes Ingresar un peso\")\n",
        "    if Peso <=0:\n",
        "      raise ValueError(\"debes poner un peso mayor a 0\")\n",
        "    Altura = float (input(\"Ingresa tu altura:  \").strip())\n",
        "    if not Altura:\n",
        "      raise ValueError(\"Debes Ingresar una altura\")\n",
        "    if Altura <=0:\n",
        "      raise ValueError(\"debes poner una altura mayor a 0\")\n",
        "  #Calculo\n",
        "    IMC = (Peso/(Altura*Altura))\n",
        "    print(\"-----RESULTADOS-----\")\n",
        "    print(f\"Nombre: \",nombre)\n",
        "    print(f\"Apellido Paterno: \",Apaterno)\n",
        "    print(f\"Apellido Materno: \",Amaterno)\n",
        "    print(f\"Edad: {edad} años\")\n",
        "    print(f\"Peso: \",Peso)\n",
        "    print(f\"Altura: \",Altura)\n",
        "    print(f\"tu IMC: {IMC}\")\n",
        "    val = False\n",
        "  except ValueError as e:\n",
        "    print(f\"Error: {e}\")\n",
        "    print(\"Por favor, ingresa los datos nuevamente.\")"
      ]
    },
    {
      "cell_type": "code",
      "source": [],
      "metadata": {
        "id": "Emxw0XBFFWsn"
      },
      "execution_count": null,
      "outputs": []
    }
  ]
}